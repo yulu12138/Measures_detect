{
 "cells": [
  {
   "cell_type": "code",
   "execution_count": 12,
   "metadata": {
    "collapsed": true
   },
   "outputs": [],
   "source": [
    "#导入需要用到的包\n",
    "import random"
   ]
  },
  {
   "cell_type": "code",
   "execution_count": 6,
   "outputs": [
    {
     "data": {
      "text/plain": "['中国人民银行 银保监会 财政部 发展改革委 工业和信息化部关于进一步对中小微企业贷款实施阶段性延期还本付息的通知',\n '主题分类',\n '财政、金融、审计/财政']"
     },
     "execution_count": 6,
     "metadata": {},
     "output_type": "execute_result"
    }
   ],
   "source": [
    "#导入三元组信息\n",
    "triple = []\n",
    "with open('data/second/new_triple/all.txt','r',encoding='utf-8') as infile:\n",
    "    for line in infile.readlines():\n",
    "        triple.append(line.strip().split('\\t'))\n",
    "triple[0]"
   ],
   "metadata": {
    "collapsed": false,
    "pycharm": {
     "name": "#%%\n"
    }
   }
  },
  {
   "cell_type": "code",
   "execution_count": 11,
   "outputs": [
    {
     "data": {
      "text/plain": "(6190, 4454, 45)"
     },
     "execution_count": 11,
     "metadata": {},
     "output_type": "execute_result"
    }
   ],
   "source": [
    "#进行关系、实体对应关系\n",
    "entity, relation = set(), set()\n",
    "for i in triple:\n",
    "    entity.add(i[0])\n",
    "    entity.add(i[2])\n",
    "    relation.add(i[1])\n",
    "entityid, relationid = {}, {}\n",
    "for key,value in enumerate(entity):\n",
    "    entityid[value] = key\n",
    "for key,value in enumerate(relation):\n",
    "    relationid[value] = key\n",
    "len(triple),len(entity),len(relation)"
   ],
   "metadata": {
    "collapsed": false,
    "pycharm": {
     "name": "#%%\n"
    }
   }
  },
  {
   "cell_type": "code",
   "execution_count": 19,
   "outputs": [
    {
     "name": "stdout",
     "output_type": "stream",
     "text": [
      "4334 1238 618\n"
     ]
    }
   ],
   "source": [
    "# 转化成openke的格式\n",
    "openkePath = 'data/second/new_triple/openke/'\n",
    "\n",
    "# 写入entity2id.txt文件\n",
    "with open(openkePath+'entity2id.txt','w',encoding='utf-8') as outfile:\n",
    "    outfile.write(str(len(entityid))+'\\n')\n",
    "    for i in entityid:\n",
    "        outfile.write(i+'\\t'+str(entityid[i])+'\\n')\n",
    "# 写入relation2id.txt文件\n",
    "with open(openkePath+'relation2id.txt','w',encoding='utf-8') as outfile:\n",
    "    outfile.write(str(len(relationid))+'\\n')\n",
    "    for i in relationid:\n",
    "        outfile.write(i+'\\t'+str(relationid[i])+'\\n')\n",
    "# 划分triple,按照7:2:1的比例\n",
    "random.shuffle(triple)\n",
    "length = len(triple)\n",
    "train_triple, test_triple, valid_triple = [], [], []\n",
    "for key,value in enumerate(triple):\n",
    "    if key <= 0.7*length:\n",
    "        train_triple.append(value)\n",
    "    elif key<=0.9*length:\n",
    "        test_triple.append(value)\n",
    "    else:\n",
    "        valid_triple.append(value)\n",
    "with open(openkePath+'train2id.txt','w',encoding='utf-8') as tripleTrainFile:\n",
    "    tripleTrainFile.write(str(len(train_triple))+'\\n')\n",
    "    for value in train_triple:\n",
    "        tripleTrainFile.write(str(entityid[value[0]])+'\\t'+str(entityid[value[2]])+'\\t'+str(relationid[value[1]])+'\\n')\n",
    "with open(openkePath+'test2id.txt','w',encoding='utf-8') as tripleTestFile:\n",
    "    tripleTestFile.write(str(len(test_triple))+'\\n')\n",
    "    for value in test_triple:\n",
    "        tripleTestFile.write(str(entityid[value[0]])+'\\t'+str(entityid[value[2]])+'\\t'+str(relationid[value[1]])+'\\n')\n",
    "with open(openkePath+'valid2id.txt','w',encoding='utf-8') as tripleValidFile:\n",
    "    tripleValidFile.write(str(len(valid_triple))+'\\n')\n",
    "    for value in valid_triple:\n",
    "        tripleValidFile.write(str(entityid[value[0]])+'\\t'+str(entityid[value[2]])+'\\t'+str(relationid[value[1]])+'\\n')\n"
   ],
   "metadata": {
    "collapsed": false,
    "pycharm": {
     "name": "#%%\n"
    }
   }
  }
 ],
 "metadata": {
  "kernelspec": {
   "display_name": "Python 3",
   "language": "python",
   "name": "python3"
  },
  "language_info": {
   "codemirror_mode": {
    "name": "ipython",
    "version": 2
   },
   "file_extension": ".py",
   "mimetype": "text/x-python",
   "name": "python",
   "nbconvert_exporter": "python",
   "pygments_lexer": "ipython2",
   "version": "2.7.6"
  }
 },
 "nbformat": 4,
 "nbformat_minor": 0
}