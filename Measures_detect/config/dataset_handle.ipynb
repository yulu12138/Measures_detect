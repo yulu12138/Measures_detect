{
 "cells": [
  {
   "cell_type": "markdown",
   "metadata": {
    "collapsed": true,
    "pycharm": {
     "name": "#%% md\n"
    }
   },
   "source": [
    "# 制作一个精简版的数据集\n",
    "去除序列号、事件与事件之间的连接关系"
   ]
  },
  {
   "cell_type": "code",
   "execution_count": 16,
   "outputs": [],
   "source": [
    "#导入需要的包\n",
    "import os\n",
    "#所需的文件地址等\n",
    "source_path = '../data/dataset/dataset_augment_synonym1/'\n",
    "target_path = '../data/dataset/Lite_version/'\n"
   ],
   "metadata": {
    "collapsed": false,
    "pycharm": {
     "name": "#%%\n"
    }
   }
  },
  {
   "cell_type": "code",
   "execution_count": 24,
   "outputs": [],
   "source": [
    "#定义路径检测函数，自动创建路径\n",
    "def path_check(target_path, typelist):\n",
    "    #检测是否存在路径,如果路径不存在则直接创建一个文件夹\n",
    "    for type in typelist:\n",
    "        if not os.path.exists(target_path+type):\n",
    "            os.makedirs(target_path+type)\n",
    "            print('路径：{}\\t未找到，以自动创建该目录'.format(target_path+type))\n",
    "\n",
    "#定义数据导入函数\n",
    "def source_load(source_path):\n",
    "    typelist = os.listdir(source_path)\n",
    "    data = {}\n",
    "    for type in typelist:\n",
    "        type_data = {}\n",
    "        temp_path = source_path+type+'/'\n",
    "        files = os.listdir(temp_path)\n",
    "        for file in files:\n",
    "            temp_file = []\n",
    "            with open(temp_path+file,'r',encoding='utf-8') as infile:\n",
    "                for line in infile.readlines():\n",
    "                    sets = line.strip().split('\\t')\n",
    "                    if len(sets) == 4:\n",
    "                        temp_file.append((sets[1],sets[2]))\n",
    "                    else:\n",
    "                        temp_file.append((sets[0],sets[1]))\n",
    "            type_data[file] = temp_file\n",
    "        data[type] = type_data\n",
    "    return data\n",
    "\n",
    "#定义写入函数\n",
    "def write_in(data, target_path):\n",
    "    for type in data:\n",
    "        for file in data[type]:\n",
    "            temp_path = target_path+type+'/'+file\n",
    "            with open(temp_path,'w',encoding='utf-8') as outfile:\n",
    "                count = 0\n",
    "                for sentence,label in data[type][file]:\n",
    "                    if count != 0:\n",
    "                        outfile.write('\\n')\n",
    "                    else:\n",
    "                        count += 1\n",
    "                    outfile.write(sentence+'\\t'+label)"
   ],
   "metadata": {
    "collapsed": false,
    "pycharm": {
     "name": "#%%\n"
    }
   }
  },
  {
   "cell_type": "code",
   "execution_count": 22,
   "outputs": [
    {
     "name": "stdout",
     "output_type": "stream",
     "text": [
      "检测写入路径是否存在……\n",
      "检测完成，开始导入数据\n",
      "开始从../data/dataset/dataset_augment_synonym1/中获取数据\n",
      "从../data/dataset/dataset_augment_synonym1/中获得数据成功，开始进行写入\n",
      "写入数据成功，任务完成\n"
     ]
    }
   ],
   "source": [
    "def run_copy(source_path,target_path):\n",
    "    typelist = os.listdir(source_path)\n",
    "    print('检测写入路径是否存在……')\n",
    "    path_check(target_path,typelist)\n",
    "    print('检测完成，开始导入数据')\n",
    "    print('开始从{}中获取数据'.format(source_path))\n",
    "    data = source_load(source_path)\n",
    "    print('从{}中获得数据成功，开始进行写入'.format(source_path))\n",
    "    write_in(data,target_path)\n",
    "    print('写入数据成功，任务完成')\n",
    "\n",
    "run_copy(source_path,target_path)"
   ],
   "metadata": {
    "collapsed": false,
    "pycharm": {
     "name": "#%%\n"
    }
   }
  },
  {
   "cell_type": "markdown",
   "source": [
    "# 将数据集转换为json文件进行保存"
   ],
   "metadata": {
    "collapsed": false,
    "pycharm": {
     "name": "#%% md\n"
    }
   }
  },
  {
   "cell_type": "code",
   "execution_count": 29,
   "outputs": [],
   "source": [
    "#导入需要的包\n",
    "import json\n",
    "\n",
    "def run_to_json(source_path, file_path):\n",
    "    data = source_load(source_path)\n",
    "    with open(file_path,'w',encoding='utf-8') as outfile:\n",
    "        json.dump(data,outfile,indent=1,ensure_ascii=False)\n",
    "\n",
    "# 将所有的数据集转化为json\n",
    "target_path = '../data/dataset/json_file/'\n",
    "pairs = [('../data/dataset/dataset/','dataset.json'),\n",
    "         ('../data/dataset/Lite_version/','Lite_version.json'),\n",
    "         ('../data/dataset/augment/dataset_augment/','augment.json'),\n",
    "         ('../data/dataset/augment/dataset_augment_synonym/','dataset_augment_synonym.json'),\n",
    "         ('../data/dataset/augment/dataset_augment_synonym1/','dataset_augment_synonym1.json')]\n",
    "for source_path,target_file in pairs:\n",
    "    run_to_json(source_path,target_path+target_file)"
   ],
   "metadata": {
    "collapsed": false,
    "pycharm": {
     "name": "#%%\n"
    }
   }
  }
 ],
 "metadata": {
  "kernelspec": {
   "display_name": "Python 3",
   "language": "python",
   "name": "python3"
  },
  "language_info": {
   "codemirror_mode": {
    "name": "ipython",
    "version": 2
   },
   "file_extension": ".py",
   "mimetype": "text/x-python",
   "name": "python",
   "nbconvert_exporter": "python",
   "pygments_lexer": "ipython2",
   "version": "2.7.6"
  }
 },
 "nbformat": 4,
 "nbformat_minor": 0
}